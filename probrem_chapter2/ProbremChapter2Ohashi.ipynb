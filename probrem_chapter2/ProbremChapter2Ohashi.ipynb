{
 "metadata": {
  "name": "",
  "signature": "sha256:d9b5dfee93a7e3979414946572d8bc0c147645bdc5ba1052a72850df14249c86"
 },
 "nbformat": 3,
 "nbformat_minor": 0,
 "worksheets": [
  {
   "cells": [
    {
     "cell_type": "markdown",
     "metadata": {
      "slideshow": {
       "slide_type": "slide"
      }
     },
     "source": [
      "## Problem 2.1 ##\n",
      "\u30d9\u30eb\u30cc\u30fc\u30a4\u5206\u5e03 ${\\rm Bern}(x|\\mu)=\\mu^x (1-\\mu)^{1-x}$ \u304c\u8272\u3005\u6e80\u305f\u3059\u3053\u3068\u3092\u793a\u3059\u3002"
     ]
    },
    {
     "cell_type": "markdown",
     "metadata": {},
     "source": [
      "#### $\\sum_{x=0}^1 p(x|\\mu) = 1$\u3092\u6e80\u305f\u3059\n",
      "\n",
      "[\u8a3c\u660e] $\\sum_{x=0}^1 p(x|\\mu) = \\sum_{x=0}^1{\\rm Bern}(x|\\mu)=\\sum_{x=0}^1\\mu^x (1-\\mu)^{1-x}=\\mu^0 (1-\\mu)^{1-0} + \\mu^1 (1-\\mu)^{1-1} = (1-\\mu) + \\mu = 1 $\n",
      "\n",
      "#### $\\mathbb{E}[x]=\\mu$ \u3092\u6e80\u305f\u3059\n",
      "\n",
      "[\u8a3c\u660e] $\\mathbb{E}[x] = \\sum_{x=0}^1 x{\\rm Bern}(x|\\mu) = \\sum_{x=0}^1 x\\mu^x (1-\\mu)^{1-x} = 0(1-\\mu) + 1\\mu = \\mu$\n",
      "\n",
      "#### ${\\rm var}[x] = \\mu(1-\\mu)$\u3092\u6e80\u305f\u3059\n",
      "\n",
      "[\u8a3c\u660e] ${\\rm var}[x] = \\sum_{x=0}^1 (x-\\mu)^2{\\rm Bern}(x|\\mu) = \\sum_{x=0}^1 (x-\\mu)^2\\mu^x (1-\\mu)^{1-x} \\\n",
      "      = (0-\\mu)^2(1-\\mu) + (1-\\mu)^2\\mu = (1-\\mu)\\{\\mu^2 + (1-\\mu)\\mu)\\} = (1-\\mu)\\mu$\n",
      "\n",
      "#### \u30a8\u30f3\u30c8\u30ed\u30d4\u30fc\u304c$ {\\rm H}[x] =-\\mu\\ln \\mu - (1-\\mu)\\ln(1-\\mu) $\u3068\u306a\u308b\n",
      "\n",
      "[\u8a3c\u660e] $ {\\rm H}[x] = \\sum_{x=0}^1 -{\\rm Bern}(x|\\mu)\\ln{\\rm Bern}(x|\\mu) = \\sum_{x=0}^1 -\\mu^x (1-\\mu)^{1-x}\\ln\\{\\mu^x (1-\\mu)^{1-x}\\} \\\\ \\\n",
      "= \\sum_{x=0}^1 -\\mu^x (1-\\mu)^{1-x}\\{x\\ln\\mu + (1-x)\\ln(1-\\mu)\\} = -(1-\\mu)\\ln(1-\\mu) - \\mu\\ln\\mu$ "
     ]
    },
    {
     "cell_type": "markdown",
     "metadata": {},
     "source": [
      "## Problem 2.17 ##\n",
      "\n",
      "(2.43)\n",
      "$$ {\\cal N}({\\bf x}|{\\bf \\mu}, {\\bf \\Sigma})=\n",
      "                     \\frac{1}{(2\\pi)^{D/2}}\\frac{1}{|{\\bf \\Sigma}|^{1/2}}\n",
      "                     \\exp \\left\\{ -\\frac{1}{2}({\\bf x} - {\\bf \\mu})^T{\\bf \\Sigma}^{-1}({\\bf x} - {\\bf \\mu}) \\right\\} $$\n",
      "\u306e\u591a\u5909\u91cf\u30ac\u30a6\u30b9\u5206\u5e03\u306b\u304a\u3044\u3066\u7cbe\u5ea6\u884c\u5217(\u9006\u5206\u6563\u884c\u5217)\u3092\u5bfe\u79f0\u884c\u5217\u3068\u53cd\u5bfe\u79f0\u884c\u5217\u306e\u548c\u306e\u5f62\u3067\u66f8\u304f\u3068\n",
      "\u53cd\u5bfe\u79f0\u884c\u5217\u306e\u9805\u304c\u30ac\u30a6\u30b9\u5206\u5e03\u306e\u6307\u6570\u90e8\u5206\u306b\u306f\u73fe\u308c\u306a\u304f\u306a\u308b\u305f\u3081\u4e00\u822c\u6027\u3092\u5931\u3046\u3053\u3068\u306a\u304f\u7cbe\u5ea6\u884c\u5217\u306f\u5bfe\u79f0\u3068\u3057\u3066\u826f\u3044\u3053\u3068\u3092\u793a\u305b\n",
      "\n",
      "#### [\u8a3c\u660e]\n",
      "\n",
      "\u5bfe\u79f0\u884c\u5217\u3092A\u3001\u53cd\u5bfe\u79f0\u884c\u5217\u3092B\u3068\u3057\u3066\n",
      "$${\\bf \\Sigma}^{-1} = {\\bf A} + {\\bf B}$$\n",
      "\u3068\u8868\u3059\u3053\u3068\u3068\u3059\u308b\u3002\n",
      "A\u306e(i,j)\u6210\u5206\u3092$a_{ij}$\u3001B\u306e(i,j)\u6210\u5206\u3092$b_{ij}$\u3068\u8868\u3059\u3053\u3068\u3068\u3059\u308b\u3068\u3001\n",
      "\u5b9a\u7fa9\u3088\u308a$a_{ij}=a_{ji}$, $b_{ij}=-b_{ji}$\u3067\u3042\u308b\u3002\n",
      "\n",
      "\u3053\u3053\u3067\u3001\u6307\u6570\u306e\u80a9\u306e\u90e8\u5206\u306e\u8a08\u7b97\u3092\u8003\u3048\u308b\u3068\u3001\n",
      "$$ {\\bf x}^T{\\bf A}{\\bf x} = \\sum_i a_{ii}x_i^2 + \\sum_{i,j}a_{ij}x_i x_j = \\sum_i a_{ii}x_i^2 + 2\\sum_{i < j}a_{ij}x_i x_j $$\n",
      "$$ {\\bf x}^T{\\bf B}{\\bf x} = \\sum_i b_{ii}x_i^2 + \\sum_{i,j}b_{ij}x_i x_j = \\sum_i b_{ii}x_i^2 $$\n",
      "\u3068\u306a\u308b\u305f\u3081\u3001\u53cd\u5bfe\u79f0\u884c\u5217\u306b\u304a\u3044\u3066\u306f\u5bfe\u89d2\u6210\u5206\u306e\u307f\u304c\u6b8b\u308b\u3053\u3068\u3068\u306a\u308b\u3002\n",
      "\n",
      "(B\u306b\u304a\u3044\u3066ij\u3092\u5165\u308c\u66ff\u3048\u308b\u3068\u4fc2\u6570\u304c\u8ca0\u306b\u306a\u308b\u306e\u3067\u3001\u30ad\u30e3\u30f3\u30bb\u30eb\u3057\u30660\u306b\u306a\u308b\u3001A\u306e\u5834\u5408\u306f\u305d\u306e\u9006\u30672\u500d\u306b\u306a\u308b)\n",
      "\n",
      "\u5f93\u3063\u3066\u7cbe\u5ea6\u884c\u5217\u306f\u5bfe\u79f0\u884c\u5217\u3068\u3057\u3066\u826f\u3044\u3002"
     ]
    },
    {
     "cell_type": "markdown",
     "metadata": {},
     "source": [
      "## Problem 2.40 ##\n",
      "\n",
      "D\u6b21\u5143\u30ac\u30a6\u30b9\u5206\u5e03\u306e\u5206\u6563\u304c\u65e2\u77e5\u3067\u3042\u308b\u3068\u3044\u3046\u6761\u4ef6\u3067\u89b3\u6e2c\u5024${\\bf X}$\u304b\u3089\u5e73\u5747$\\mu$\u3092\u63a8\u5b9a\u3057\u305f\u3044\u3002\u4e8b\u524d\u5206\u5e03$p({\\bf \\mu})=\\cal{N}({\\bf \\mu}|{\\bf\\mu_0},{\\bf\\Sigma_0})$\u306b\u3064\u3044\u3066\u3053\u308c\u306b\u5bfe\u5fdc\u3059\u308b\u4e8b\u5f8c\u5206\u5e03$p({\\bf\\mu}|{\\bf X})$\u3092\u6c42\u3081\u3088\u3002\n",
      "\n",
      "#### \u7b54\u3048 ####\n",
      "\n",
      "$p({\\bf\\mu}|{\\bf X}) \\propto p({\\bf X}|{\\bf \\mu})p({\\bf \\mu})={\\cal N}({\\bf X}|{\\bf\\mu},{\\bf\\Sigma}){\\cal N}({\\bf \\mu}|{\\bf\\mu_0},{\\bf\\Sigma_0})\n",
      "= \\prod_{i=0}^{{\\bf N}} {\\cal N}({\\bf x_i}|{\\bf\\mu},{\\bf\\Sigma}){\\cal N}({\\bf \\mu}|{\\bf\\mu_0},{\\bf\\Sigma_0}) $\u3067\u3042\u308b\u306e\u3067\u3001\n",
      "\n",
      "$$ {\\cal N}({\\bf X}|{\\bf \\mu}, {\\bf \\Sigma}){\\cal N}({\\bf \\mu}|{\\bf\\mu_0},{\\bf\\Sigma_0})=\n",
      "\\prod_{i=0}^{{\\bf N}} \\frac{1}{(2\\pi)^{D/2}}\\frac{1}{|{\\bf \\Sigma}|^{1/2}}\n",
      "\\exp \\left\\{ -\\frac{1}{2}({\\bf x}_i - {\\bf \\mu})^T{\\bf \\Sigma}^{-1}({\\bf x}_i - {\\bf \\mu}) \\right\\} \n",
      "\\frac{1}{(2\\pi)^{D/2}}\\frac{1}{|{\\bf \\Sigma_0}|^{1/2}}\n",
      "\\exp \\left\\{ -\\frac{1}{2}({\\bf \\mu} - {\\bf \\mu_0})^T{\\bf \\Sigma_0}^{-1}({\\bf \\mu} - {\\bf \\mu_0}) \\right\\}\n",
      "$$\n",
      "\n",
      "\u3053\u306e\u6307\u6570\u90e8\u306e\u307f\u3092\u8003\u3048\u308b\u3068\u3001\n",
      "$$\n",
      "-\\frac{1}{2}({\\bf x}_i - {\\bf \\mu})^T{\\bf \\Sigma}^{-1}({\\bf x}_i - {\\bf \\mu}) -\\frac{1}{2}({\\bf \\mu} - {\\bf \\mu_0})^T{\\bf \\Sigma_0}^{-1}({\\bf \\mu} - {\\bf \\mu_0}) \\\\\n",
      "= -\\frac{1}{2}{\\bf \\mu}^T ({\\bf \\Sigma}_0^{-1} + N{\\bf \\Sigma}^{-1}{\\bf \\mu}) + {\\bf \\mu}^T\\left( {\\bf \\Sigma}_0^{-1}{\\bf \\mu}_0 + {\\bf \\Sigma}^{-1}\\sum_{n=1}^{N}{\\bf x}_n \\right) + {\\rm const}\n",
      "$$\n",
      "\n",
      "(2.71)\u304b\u3089(2.75)\u306e\u8b70\u8ad6\u306b\u57fa\u3065\u304f\u3068\u3001\u4e8c\u6b21\u306e\u4fc2\u6570\u304c\u5206\u5e03\u306e\u7cbe\u5ea6\u884c\u5217\u305d\u306e\u3082\u306e\u3067\u3042\u308a\u3001\u5e73\u5747\u306f(2.75)\u306e\u5f62\u306b\u306a\u308b\u306e\u3067\u3001\n",
      "\n",
      "$$\n",
      "{\\bf \\mu}_N = ({\\bf \\Sigma}_0^{-1} + N{\\bf \\Sigma}^{-1}{\\bf \\mu})^{-1}({\\bf \\Sigma}_0^{-1}{\\bf \\mu}_0 + {\\bf \\Sigma}^{-1}\\sum_{n=1}^{N}{\\bf x}_n)\\\\\n",
      "{\\bf \\Sigma}_N^{-1} = {\\bf \\Sigma}_0^{-1} + N{\\bf \\Sigma}^{-1}{\\bf \\mu}\n",
      "$$"
     ]
    },
    {
     "cell_type": "code",
     "collapsed": false,
     "input": [],
     "language": "python",
     "metadata": {},
     "outputs": []
    }
   ],
   "metadata": {}
  }
 ]
}