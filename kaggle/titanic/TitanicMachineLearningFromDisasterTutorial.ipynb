{
 "metadata": {
  "name": "",
  "signature": "sha256:d3336929e105b56767d7ffa99c2306f3913711b282d3adfa13b3ffaf0c4dedcb"
 },
 "nbformat": 3,
 "nbformat_minor": 0,
 "worksheets": [
  {
   "cells": [
    {
     "cell_type": "markdown",
     "metadata": {},
     "source": [
      "## \u30bf\u30a4\u30bf\u30cb\u30c3\u30af\u53f7\u304b\u3089\u306e\u751f\u5b58\u4e88\u6e2c(Excel, Python, R\u304a\u3088\u3073RandomForest\u306e\u30c1\u30e5\u30fc\u30c8\u30ea\u30a2\u30eb) ##\n",
      "\n",
      "http://www.kaggle.com/c/titanic-gettingStarted\n",
      "\n",
      "## \u6982\u8981 ##\n",
      "\n",
      "* \u30bf\u30a4\u30bf\u30cb\u30c3\u30af\u53f7\u306e\u6c88\u6ca1\u306f\u96e3\u7834\u4e8b\u6545\u306e\u4e2d\u3067\u3082\u6700\u3082\u6709\u540d\n",
      "    * 1912/4/15\u306e\u51e6\u5973\u822a\u6d77\u4e2d\u306b\u6c37\u5c71\u306b\u3076\u3064\u304b\u3063\u3066\u8f5f\u6c88\u30012224\u4eba\u4e2d1502\u4eba\u304c\u6b7b\u4ea1\n",
      "        * <span style=\"text-decoration: line-through\">\u63d0\u7763\u304c\u60aa\u3044</span>\n",
      "    * \u3061\u306a\u307f\u306b4/15\u306f\u50d5\u306e\u8a95\u751f\u65e5\u306a\u306e\u3067\u3059\u304c\u6620\u753b\u898b\u305f\u3053\u3068\u306a\u3057\n",
      "* \u60b2\u5287\u304c\u8d77\u3053\u3063\u305f\u7406\u7531\u3068\u3057\u3066\u306f\u4e57\u5ba2\u3084\u30b9\u30bf\u30c3\u30d5\u306b\u5bfe\u3059\u308b\u5341\u5206\u306a\u6570\u306e\u6551\u547d\u30dc\u30fc\u30c8\u304c\u306a\u304b\u3063\u305f\u305f\u3081\n",
      "    * \u30bb\u30a6\u30a9\u30eb\u53f7\u304c\u771f\u3063\u5148\u306b\u601d\u3044\u6d6e\u304b\u3076\n",
      "    * \u91d1\u7530\u4e00\u306e\u8a71\u3067\u3082\u6551\u547d\u30dc\u30fc\u30c8\u304c\u7406\u7531\u306e\u6bba\u4eba\u4e8b\u4ef6\u304c\u3042\u308a\u307e\u3057\u305f\u306d\u78ba\u304b\n",
      "* \u4ed6\u306b\u3082\u751f\u5b58\u306b\u5fc5\u8981\u306a\u3055\u307e\u3056\u307e\u306a\u8981\u7d20\u304c\u6b20\u3051\u3066\u3044\u305f\u304c\u3001\u5973\u6027\u3084\u5b50\u4f9b\u3001\u4e0a\u6d41\u968e\u7d1a\u3068\u3044\u3063\u305f\u3042\u308b\u30b0\u30eb\u30fc\u30d7\u306e\u4eba\u306f\u4ed6\u306e\u4eba\u3088\u308a\u3082\u751f\u5b58\u3059\u308b\u50be\u5411\u306b\u3042\u3063\u305f\n",
      "* \u3053\u306e\u30c1\u30e3\u30ec\u30f3\u30b8\u3067\u306f\u3069\u306e\u3088\u3046\u306a\u6027\u8cea\u3092\u6301\u3063\u305f\u4eba\u3005\u304c\u751f\u5b58\u3059\u308b\u50be\u5411\u306b\u3042\u308b\u304b\u306b\u3064\u3044\u3066\u6a5f\u68b0\u5b66\u7fd2\u306e\u30c4\u30fc\u30eb\u3092\u4f7f\u3063\u3066\u5206\u6790\u3092\u884c\u3046\n",
      "\n",
      "* \u30ca\u30b7\u30e7\u30ca\u30eb\u30b8\u30aa\u30b0\u30e9\u30d5\u30a3\u30c3\u30af\u30c1\u30e3\u30f3\u30cd\u30eb\u306e\u518d\u73fe\u6620\u50cf\u306f\u5404\u81ea\u8208\u5473\u304c\u3042\u308c\u3070\u898b\u3066\u304f\u3060\u3057\u3042\n",
      "* kaggle\u306e\"Getting Started\"\u306e\u30b3\u30f3\u30da\u30c6\u30a3\u30b7\u30e7\u30f3\n",
      "    * \u6a5f\u68b0\u5b66\u7fd2\u306b\u99b4\u67d3\u307f\u306e\u306a\u3044\u4eba\u306b\u3068\u3063\u3066\u7406\u60f3\u7684\u306a\u30b9\u30bf\u30fc\u30c8\u3068\u306a\u308b\u30b3\u30f3\u30da\u30c6\u30a3\u30b7\u30e7\u30f3\n",
      "    * \u30c7\u30fc\u30bf\u306f\u69cb\u9020\u5316\u3055\u308c\u3066\u304a\u308a\u3001Excel, Python, pandas in Python, Random Forest in Python\u306e\u30c1\u30e5\u30fc\u30c8\u30ea\u30a2\u30eb\u6709\n",
      "        * R\u3092\u4f7f\u3063\u305f\u30c1\u30e5\u30fc\u30c8\u30ea\u30a2\u30eb\u3078\u306e\u30ea\u30f3\u30af\u3082\u3042\u308b\u3088\n",
      "    * \u30d5\u30a9\u30fc\u30e9\u30e0\u3092\u81ea\u7531\u306b\u4f7f\u3044\u306a\u3001\u611a\u304b\u306a\u8cea\u554f\u306a\u3093\u3066\u3082\u306e\u306f\u306a\u3044\u306e\u3060\u3088\u3001\u304d\u3063\u3068\u540c\u3058\u3053\u3068\u3092\u7591\u554f\u306b\u601d\u3063\u3066\u3044\u308b\u304b\u3089\u306d\uff01"
     ]
    },
    {
     "cell_type": "markdown",
     "metadata": {},
     "source": [
      "### \u30eb\u30fc\u30eb ###\n",
      "\n",
      "* \u4e00\u3064\u306e\u30a2\u30ab\u30a6\u30f3\u30c8\u3067\u53c2\u52a0\u3057\u3066\u304f\u3060\u3055\u3044\n",
      "* \u30c1\u30fc\u30e0\u5916\u3067\u306e\u79c1\u7684\u306a\u30c7\u30fc\u30bf\u3084\u30b3\u30fc\u30c9\u306e\u5171\u6709\u7981\u6b62\n",
      "    * \u30d5\u30a9\u30fc\u30e9\u30e0\u3067\u5168\u53c2\u52a0\u8005\u304c\u5171\u6709\u3067\u304d\u308b\u5f62\u306a\u3089\u304a\uff4b\n",
      "* \u30c1\u30fc\u30e0\u306e\u5408\u4f53\u306f\u5408\u4f53\u3059\u308b\u6642\u70b9\u3067\u306e\u5408\u8a08\u306e\u56de\u7b54\u9001\u4fe1\u6570\u304c\u8a31\u5bb9\u6700\u5927\u56de\u6570\u3088\u308a\u3082\u5c11\u306a\u3051\u308c\u3070\u304a\uff4b\n",
      "    * \u6700\u5927\u56de\u6570\u306f\u4e00\u65e5\u3042\u305f\u308a\u306e\u9001\u4fe1\u6570\u306b\u30b3\u30f3\u30da\u30c6\u30a3\u30b7\u30e7\u30f3\u306e\u7d4c\u904e\u65e5\u6570\u3092\u639b\u3051\u305f\u3082\u306e\n",
      "* \u30c1\u30fc\u30e0\u30b5\u30a4\u30ba\u306e\u5236\u9650\u306f\u306a\u3044\n",
      "* \u4e00\u65e5\u3042\u305f\u308a\u306e\u56de\u7b54\u9001\u4fe1\u6570\u306e\u6700\u5927\u5024\u306f10\u56de\u307e\u3067\u3001\u5224\u5b9a\u306e\u969b\u306b\u306f5\u3064\u306e\u6700\u7d42\u7684\u306a\u56de\u7b54\u3092\u9078\u3076\n",
      "* \u30b3\u30f3\u30da\u30c6\u30a3\u30b7\u30e7\u30f3\u306e\u30bf\u30a4\u30e0\u30e9\u30a4\u30f3\n",
      "    * 2012/9/28\u306b\u958b\u59cb\u3001\u7d42\u4e86\u306f2015/12/31\n",
      "* \u3053\u306e\u30b3\u30f3\u30da\u30c6\u30a3\u30b7\u30e7\u30f3\u306f\u6a5f\u68b0\u5b66\u7fd2\u3092\u59cb\u3081\u308b\u304d\u3063\u304b\u3051\u3068\u3059\u308b\u305f\u3081\u306e\u6c17\u697d\u306a\u3082\u306e\u306a\u306e\u3067\u3001\u30bf\u30a4\u30bf\u30cb\u30c3\u30af\u306e\u30c7\u30fc\u30bf\u30bb\u30c3\u30c8\u306f\u30a4\u30f3\u30bf\u30fc\u30cd\u30c3\u30c8\u4e0a\u306b\u8ee2\u304c\u3063\u3066\u3044\u308b\u304c\u7b54\u3048\u3092\u898b\u308b\u3068\u305d\u306e\u76ee\u7684\u304b\u3089\u5b8c\u5168\u306b\u5916\u308c\u3066\u3057\u307e\u3046\u305f\u3081\u3084\u3063\u3066\u306f\u3044\u3051\u306a\u3044\u3001\u7d04\u675f\u3060\n",
      "\n",
      "* (\u7406\u89e3\u3057\u305f\u3089\u6700\u4e0b\u90e8\u306e\"I understand and accept\"\u3092\u62bc\u3057\u3066\u304f\u3060\u3055\u3044)"
     ]
    },
    {
     "cell_type": "markdown",
     "metadata": {},
     "source": [
      "### \u8cde\u91d1 ###\n",
      "\n",
      "The confidence to go forward and compete for some serious \\$\\$\\$\\$\\$\\$\n",
      "\u3064\u307e\u308a\u7279\u306b\u306a\u3057"
     ]
    },
    {
     "cell_type": "markdown",
     "metadata": {},
     "source": [
      "### \u8a55\u4fa1\u65b9\u6cd5 ###\n",
      "\n",
      "* \u30c7\u30fc\u30bf\u306f\"training set\"\u3068\"test set\"\u306e2\u3064\u306b\u5206\u304b\u308c\u3066\u3044\u308b\n",
      "    * \"training set\"\u306b\u5bfe\u3057\u3066\u306f\u5404\u3005\u306e\u4e57\u5ba2\u306b\u5bfe\u3059\u308b\u7d50\u679c(ground truth)\u3092\u63d0\u4f9b\n",
      "        * \u3053\u306e\u8a13\u7df4\u30bb\u30c3\u30c8\u306f\u30c6\u30b9\u30c8\u30bb\u30c3\u30c8\u306b\u5bfe\u3059\u308b\u4e88\u6e2c\u3092\u884c\u3046\u305f\u3081\u306e\u30e2\u30c7\u30eb\u4f5c\u6210\u306b\u5229\u7528\u53ef\u80fd\n",
      "* \u30c6\u30b9\u30c8\u30bb\u30c3\u30c8\u306e\u5404\u3005\u306e\u4e57\u5ba2\u306b\u5bfe\u3057\u3001\u6c88\u6ca1\u306b\u969b\u3057\u751f\u5b58\u3057\u305f\u304b\u3069\u3046\u304b\u3092\u4e88\u6e2c\n",
      "    * 0\u304c\u6b7b\u4ea1\u3092\u8868\u3057,1\u304c\u751f\u5b58\u3092\u8868\u3059\n",
      "    * \u6b63\u3057\u304f\u4e88\u6e2c\u3067\u304d\u305f\u5272\u5408\u304c\u30b9\u30b3\u30a2\n",
      "* Kaggle\u306eleaderboard(\\*)\u306f\u30d1\u30d6\u30ea\u30c3\u30af\u306a\u90e8\u5206\u3068\u30d7\u30e9\u30a4\u30d9\u30fc\u30c8\u306a\u90e8\u5206\u306b\u5206\u304b\u308c\u308b\n",
      "    * \\* \u9078\u624b\u306e\u9806\u4f4d\u3068\u30b9\u30b3\u30a2\u3092\u30ae\u30e3\u30e9\u30ea\u30fc\u3084\u8996\u8074\u8005\u306b\u9010\u4e00\u77e5\u3089\u305b\u308b\u4e00\u89a7\u8868\n",
      "    * \u30c6\u30b9\u30c8\u30bb\u30c3\u30c8\u306b\u5bfe\u3059\u308b\u4e88\u6e2c\u306e50%\u306f\u30e9\u30f3\u30c0\u30e0\u306b\u30d1\u30d6\u30ea\u30c3\u30af\u306aleaderboard\u306b\u53cd\u6620\u3055\u308c\u308b\n",
      "        * \u3069\u306e50%\u3067\u3042\u308b\u304b\u306f\u53c2\u52a0\u8005\u306b\u5171\u901a\n",
      "        * \u3053\u306e50%\u306b\u5bfe\u3059\u308b\u30b9\u30b3\u30a2\u304cleaderboard\u306b\u8868\u308c\u308b\n",
      "    * \u30b3\u30f3\u30c6\u30b9\u30c8\u306e\u6700\u5f8c\u306b\u6b8b\u308a\u306e50%\u306e\u30c7\u30fc\u30bf\u306b\u5bfe\u3059\u308b\u30b9\u30b3\u30a2\u304c\u660e\u3089\u304b\u306b\u306a\u308b\n",
      "        * \u3053\u306e\u30b9\u30b3\u30a2\u304c\u52dd\u8005\u3092\u6c7a\u3081\u308b\n",
      "    * \u3053\u306e\u8a55\u4fa1\u65b9\u6cd5\u306f\u904e\u5b66\u7fd2\u3092\u907f\u3051\u308b\u305f\u3081\u306e\u3082\u306e\u3067\u3042\u308b"
     ]
    },
    {
     "cell_type": "markdown",
     "metadata": {},
     "source": [
      "### \u30c7\u30fc\u30bf\u30bb\u30c3\u30c8 ###\n",
      "\n",
      "http://www.kaggle.com/c/titanic-gettingStarted/data\n",
      "\n",
      "* \u5909\u6570\u306e\u8aac\u660e\n",
      "    * survival \u751f\u5b58\u3057\u305f\u304b\u5426\u304b\n",
      "        * 0 = No, 1 = Yes\n",
      "    * pclass \u4e57\u5ba2\u306e\u968e\u7d1a\n",
      "        * 1 = 1st; 2 = 2nd; 3 = 3rd\n",
      "            * \u793e\u4f1a\u7d4c\u6e08\u306b\u304a\u3051\u308b\u30b9\u30c6\u30fc\u30bf\u30b9\u30011st\u304c\u4e0a\u6d41\u30012nd\u304c\u4e2d\u6d41\u30013rd\u304c\u4e0b\u6d41\n",
      "    * name \u540d\u524d\n",
      "    * sex \u6027\u5225\n",
      "    * age \u5e74\u9f62\n",
      "        * 1\u6b73\u672a\u6e80\u306e\u5834\u5408\u306f\u5c0f\u6570\n",
      "        * \u63a8\u5b9a\u5e74\u9f62\u306e\u5834\u5408\u306fxx.5\u306a\u3069\u3068\u3044\u3046\u8868\u8a18\n",
      "    * \u89aa\u65cf\u95a2\u4fc2\u306e\u5909\u6570\n",
      "        * sibsp \u30bf\u30a4\u30bf\u30cb\u30c3\u30af\u53f7\u306b\u4e57\u3063\u3066\u3044\u305fSigling/Spouse\u306e\u6570\n",
      "            * Sibling: \u5144\u5f1f\u3001\u59c9\u59b9\u3001\u7fa9\u5144\u5f1f\u3001\u7fa9\u59c9\u59b9\n",
      "            * Spouse: \u592b\u3001\u59bb\n",
      "            * \u611b\u4eba\u3084\u5a5a\u7d04\u8005\u306b\u3064\u3044\u3066\u306f\u9664\u5916\n",
      "        * parch \u30bf\u30a4\u30bf\u30cb\u30c3\u30af\u53f7\u306b\u4e57\u3063\u3066\u3044\u305fParent/Children\u306e\u6570\n",
      "            * Parent: \u6bcd\u89aa\u3001\u7236\u89aa\n",
      "            * Child: \u606f\u5b50\u3001\u5a18\u3001\u307e\u307e\u606f\u5b50\u3001\u307e\u307e\u5a18\n",
      "        * \u7121\u8996\u3055\u308c\u3066\u3044\u308b\u95a2\u4fc2\u3082\u5b58\u5728\n",
      "            * \u3044\u3068\u3053\u3001\u7525\u3001\u59ea\u3001\u304a\u3058\u3001\u304a\u3070\u3001\u8205\u3001\u59d1\u306f\u9664\u5916\n",
      "            * \u30d9\u30d3\u30fc\u30b7\u30c3\u30bf\u30fc\u3068\u3060\u3051\u65c5\u884c\u3057\u3066\u3044\u305f\u4f55\u4eba\u304b\u306e\u5b50\u4f9b\u306fparch=0\n",
      "            * \u89aa\u53cb\u3084\u8fd1\u6240\u306e\u4eba\u3068\u65c5\u884c\u306b\u6765\u3066\u3044\u305f\u4eba\u306b\u5bfe\u3057\u3066\u306e\u5c5e\u6027\u306f\u306a\u3044\n",
      "    * ticket \u30c1\u30b1\u30c3\u30c8\u30ca\u30f3\u30d0\u30fc\n",
      "    * fare \u4e57\u8eca\u6599\u91d1\n",
      "    * cabin Cabin(\u8239\u5ba4\u306e\u90e8\u5c4b\u756a\u53f7?)\n",
      "    * embarked \u4e57\u8239\u5834\n",
      "        * C = Cherbourg, Q = Queenstown; S = Southampton"
     ]
    },
    {
     "cell_type": "code",
     "collapsed": false,
     "input": [
      "! head data/train.csv"
     ],
     "language": "python",
     "metadata": {},
     "outputs": [
      {
       "output_type": "stream",
       "stream": "stdout",
       "text": [
        "PassengerId,Survived,Pclass,Name,Sex,Age,SibSp,Parch,Ticket,Fare,Cabin,Embarked\r",
        "\r\n",
        "1,0,3,\"Braund, Mr. Owen Harris\",male,22,1,0,A/5 21171,7.25,,S\r",
        "\r\n",
        "2,1,1,\"Cumings, Mrs. John Bradley (Florence Briggs Thayer)\",female,38,1,0,PC 17599,71.2833,C85,C\r",
        "\r\n",
        "3,1,3,\"Heikkinen, Miss. Laina\",female,26,0,0,STON/O2. 3101282,7.925,,S\r",
        "\r\n",
        "4,1,1,\"Futrelle, Mrs. Jacques Heath (Lily May Peel)\",female,35,1,0,113803,53.1,C123,S\r",
        "\r\n",
        "5,0,3,\"Allen, Mr. William Henry\",male,35,0,0,373450,8.05,,S\r",
        "\r\n",
        "6,0,3,\"Moran, Mr. James\",male,,0,0,330877,8.4583,,Q\r",
        "\r\n",
        "7,0,1,\"McCarthy, Mr. Timothy J\",male,54,0,0,17463,51.8625,E46,S\r",
        "\r\n",
        "8,0,3,\"Palsson, Master. Gosta Leonard\",male,2,3,1,349909,21.075,,S\r",
        "\r\n",
        "9,1,3,\"Johnson, Mrs. Oscar W (Elisabeth Vilhelmina Berg)\",female,27,0,2,347742,11.1333,,S\r",
        "\r\n"
       ]
      }
     ],
     "prompt_number": 1
    },
    {
     "cell_type": "code",
     "collapsed": false,
     "input": [
      "! head data/gendermodel.csv"
     ],
     "language": "python",
     "metadata": {},
     "outputs": [
      {
       "output_type": "stream",
       "stream": "stdout",
       "text": [
        "PassengerId,Survived\r",
        "\r\n",
        "892,0\r",
        "\r\n",
        "893,1\r",
        "\r\n",
        "894,0\r",
        "\r\n",
        "895,0\r",
        "\r\n",
        "896,1\r",
        "\r\n",
        "897,0\r",
        "\r\n",
        "898,1\r",
        "\r\n",
        "899,0\r",
        "\r\n",
        "900,1\r",
        "\r\n"
       ]
      }
     ],
     "prompt_number": 2
    },
    {
     "cell_type": "markdown",
     "metadata": {},
     "source": [
      "## Getting Started With Python ##\n",
      "\n",
      "http://www.kaggle.com/c/titanic-gettingStarted/details/getting-started-with-python"
     ]
    },
    {
     "cell_type": "code",
     "collapsed": false,
     "input": [
      "# The first thing to do is to import the relevant packages\n",
      "# that I will need for my script, \n",
      "# these include the Numpy (for maths and arrays)\n",
      "# and csv for reading and writing csv files\n",
      "# If i want to use something from this I need to call \n",
      "# csv.[function] or np.[function] first\n",
      "\n",
      "import csv as csv \n",
      "import numpy as np\n",
      "\n",
      "# Open up the csv file in to a Python object\n",
      "csv_file_object = csv.reader(open('./data/train.csv', 'rb')) \n",
      "header = csv_file_object.next()  # The next() command just skips the \n",
      "                                 # first line which is a header\n",
      "data=[]                          # Create a variable called 'data'.\n",
      "for row in csv_file_object:      # Run through each row in the csv file,\n",
      "    data.append(row)             # adding each row to the data variable\n",
      "data = np.array(data)            # Then convert from a list to an array\n",
      "                                 # Be aware that each item is currently\n",
      "                                 # a string in this format"
     ],
     "language": "python",
     "metadata": {},
     "outputs": [],
     "prompt_number": 3
    },
    {
     "cell_type": "code",
     "collapsed": false,
     "input": [
      "data[:10]"
     ],
     "language": "python",
     "metadata": {},
     "outputs": [
      {
       "metadata": {},
       "output_type": "pyout",
       "prompt_number": 4,
       "text": [
        "array([['1', '0', '3', 'Braund, Mr. Owen Harris', 'male', '22', '1', '0',\n",
        "        'A/5 21171', '7.25', '', 'S'],\n",
        "       ['2', '1', '1',\n",
        "        'Cumings, Mrs. John Bradley (Florence Briggs Thayer)', 'female',\n",
        "        '38', '1', '0', 'PC 17599', '71.2833', 'C85', 'C'],\n",
        "       ['3', '1', '3', 'Heikkinen, Miss. Laina', 'female', '26', '0', '0',\n",
        "        'STON/O2. 3101282', '7.925', '', 'S'],\n",
        "       ['4', '1', '1', 'Futrelle, Mrs. Jacques Heath (Lily May Peel)',\n",
        "        'female', '35', '1', '0', '113803', '53.1', 'C123', 'S'],\n",
        "       ['5', '0', '3', 'Allen, Mr. William Henry', 'male', '35', '0', '0',\n",
        "        '373450', '8.05', '', 'S'],\n",
        "       ['6', '0', '3', 'Moran, Mr. James', 'male', '', '0', '0', '330877',\n",
        "        '8.4583', '', 'Q'],\n",
        "       ['7', '0', '1', 'McCarthy, Mr. Timothy J', 'male', '54', '0', '0',\n",
        "        '17463', '51.8625', 'E46', 'S'],\n",
        "       ['8', '0', '3', 'Palsson, Master. Gosta Leonard', 'male', '2', '3',\n",
        "        '1', '349909', '21.075', '', 'S'],\n",
        "       ['9', '1', '3', 'Johnson, Mrs. Oscar W (Elisabeth Vilhelmina Berg)',\n",
        "        'female', '27', '0', '2', '347742', '11.1333', '', 'S'],\n",
        "       ['10', '1', '2', 'Nasser, Mrs. Nicholas (Adele Achem)', 'female',\n",
        "        '14', '1', '0', '237736', '30.0708', '', 'C']], \n",
        "      dtype='|S82')"
       ]
      }
     ],
     "prompt_number": 4
    },
    {
     "cell_type": "code",
     "collapsed": false,
     "input": [
      "print data[0]\n",
      "print data[-1]\n",
      "print data[0,3]  # \u6700\u521d\u306e\u884c\u306e4\u756a\u76ee\u306e\u5217"
     ],
     "language": "python",
     "metadata": {},
     "outputs": [
      {
       "output_type": "stream",
       "stream": "stdout",
       "text": [
        "['1' '0' '3' 'Braund, Mr. Owen Harris' 'male' '22' '1' '0' 'A/5 21171'\n",
        " '7.25' '' 'S']\n",
        "['891' '0' '3' 'Dooley, Mr. Patrick' 'male' '32' '0' '0' '370376' '7.75' ''\n",
        " 'Q']\n",
        "Braund, Mr. Owen Harris\n"
       ]
      }
     ],
     "prompt_number": 6
    },
    {
     "cell_type": "markdown",
     "metadata": {},
     "source": [
      "\u6700\u521d\u306b\u751f\u5b58\u8005\u3068\u6b7b\u4ea1\u8005\u306e\u5272\u5408\u3092\u8abf\u3079\u305f\u3044\u306e\u3067\u3001\u7b2c1\u30ab\u30e9\u30e0\u306e\u5024\u3092\u8abf\u3079\u308b"
     ]
    },
    {
     "cell_type": "code",
     "collapsed": false,
     "input": [
      "# The size() function counts how many elements are in\n",
      "# in the array and sum() (as you would expects) sums up\n",
      "# the elements in the array.\n",
      "\n",
      "number_passengers = np.size(data[0::,1].astype(np.float))\n",
      "number_survived = np.sum(data[0::,1].astype(np.float))\n",
      "proportion_survivors = number_survived / number_passengers"
     ],
     "language": "python",
     "metadata": {},
     "outputs": [],
     "prompt_number": 7
    },
    {
     "cell_type": "code",
     "collapsed": false,
     "input": [
      "print number_passengers\n",
      "print number_survived\n",
      "print proportion_survivors"
     ],
     "language": "python",
     "metadata": {},
     "outputs": [
      {
       "output_type": "stream",
       "stream": "stdout",
       "text": [
        "891\n",
        "342.0\n",
        "0.383838383838\n"
       ]
      }
     ],
     "prompt_number": 8
    },
    {
     "cell_type": "markdown",
     "metadata": {},
     "source": [
      "6\u5272\u306e\u4eba\u306f\u4e8b\u6545\u3067\u4ea1\u304f\u306a\u3063\u3066\u3057\u307e\u3063\u3066\u3044\u308b\u3053\u3068\u304c\u5206\u304b\u308b"
     ]
    },
    {
     "cell_type": "code",
     "collapsed": false,
     "input": [
      "# [0::,1]\u3068\u30a2\u30af\u30bb\u30b9\u3059\u308b\u306e\u3068[:,1]\u3068\u30a2\u30af\u30bb\u30b9\u3059\u308b\u306e\u306f\u540c\u3058\u3001\u3080\u3057\u308d\u5f8c\u8005\u306e\u65b9\u304c\u5206\u304b\u308a\u3084\u3059\u3044\n",
      "print data[:,1][:10]\n",
      "print data[0::,1][:10]"
     ],
     "language": "python",
     "metadata": {},
     "outputs": [
      {
       "output_type": "stream",
       "stream": "stdout",
       "text": [
        "['0' '1' '1' '1' '0' '0' '0' '0' '1' '1']\n",
        "['0' '1' '1' '1' '0' '0' '0' '0' '1' '1']\n"
       ]
      }
     ],
     "prompt_number": 17
    },
    {
     "cell_type": "markdown",
     "metadata": {},
     "source": [
      "\u6b21\u306b\u7537\u5973\u3092\u533a\u5225\u3059\u308b\u305f\u3081\u306b\u30c7\u30fc\u30bf\u304b\u3089\u7537\u5973\u306b\u5bfe\u3059\u308b\u771f\u507d\u5024\u30d9\u30af\u30c8\u30eb\u3092\u6c42\u3081\u308b"
     ]
    },
    {
     "cell_type": "code",
     "collapsed": false,
     "input": [
      "women_only_stats = data[0::,4] == \"female\" # This finds where all \n",
      "                                           # the elements in the gender\n",
      "                                           # column that equals \u201cfemale\u201d\n",
      "men_only_stats = data[0::,4] != \"female\"   # This finds where all the \n",
      "                                           # elements do not equal \n",
      "                                           # female (i.e. male)"
     ],
     "language": "python",
     "metadata": {},
     "outputs": [],
     "prompt_number": 9
    },
    {
     "cell_type": "code",
     "collapsed": false,
     "input": [
      "women_only_stats[:10]"
     ],
     "language": "python",
     "metadata": {},
     "outputs": [
      {
       "metadata": {},
       "output_type": "pyout",
       "prompt_number": 10,
       "text": [
        "array([False,  True,  True,  True, False, False, False, False,  True,  True], dtype=bool)"
       ]
      }
     ],
     "prompt_number": 10
    },
    {
     "cell_type": "code",
     "collapsed": false,
     "input": [
      "# python\u7684\u306b\u306f\u4ee5\u4e0b\u306e\u30ea\u30b9\u30c8\u5185\u5305\u8868\u8a18\u306e\u65b9\u304c\u5206\u304b\u308a\u3084\u3059\u3044\u304b\u3082\u3057\u308c\u306a\u3044\n",
      "women_only_stats = np.array([sex == \"female\" for sex in data[:,4]])"
     ],
     "language": "python",
     "metadata": {},
     "outputs": [],
     "prompt_number": 18
    },
    {
     "cell_type": "code",
     "collapsed": false,
     "input": [
      "women_only_stats[:10]"
     ],
     "language": "python",
     "metadata": {},
     "outputs": [
      {
       "metadata": {},
       "output_type": "pyout",
       "prompt_number": 19,
       "text": [
        "array([False,  True,  True,  True, False, False, False, False,  True,  True], dtype=bool)"
       ]
      }
     ],
     "prompt_number": 19
    },
    {
     "cell_type": "markdown",
     "metadata": {},
     "source": [
      "\u3053\u308c\u3089\u306e\u30de\u30b9\u30af\u3092\u4f7f\u3063\u3066\u7537\u6027\u3001\u5973\u6027\u3060\u3051\u3092\u9078\u3076\u3053\u3068\u304c\u3067\u304d\u308b"
     ]
    },
    {
     "cell_type": "code",
     "collapsed": false,
     "input": [
      "# Using the index from above we select the females and males separately\n",
      "women_onboard = data[women_only_stats,1].astype(np.float)     \n",
      "men_onboard = data[men_only_stats,1].astype(np.float)\n",
      "\n",
      "# Then we finds the proportions of them that survived\n",
      "proportion_women_survived = \\\n",
      "                       np.sum(women_onboard) / np.size(women_onboard)  \n",
      "proportion_men_survived = \\\n",
      "                       np.sum(men_onboard) / np.size(men_onboard) \n",
      "\n",
      "# and then print it out\n",
      "print 'Proportion of women who survived is %s' % proportion_women_survived\n",
      "print 'Proportion of men who survived is %s' % proportion_men_survived"
     ],
     "language": "python",
     "metadata": {},
     "outputs": [
      {
       "output_type": "stream",
       "stream": "stdout",
       "text": [
        "Proportion of women who survived is 0.742038216561\n",
        "Proportion of men who survived is 0.188908145581\n"
       ]
      }
     ],
     "prompt_number": 20
    },
    {
     "cell_type": "markdown",
     "metadata": {},
     "source": [
      "    \uff3f\u4eba\u4eba\u4eba\u4eba\u4eba\u4eba\u4eba\u4eba\u4eba\u4eba\u4eba\uff3f\n",
      "    \uff1e\u3000\u5973\u6027\u306e\u5727\u5012\u7684\u751f\u5b58\u7387\u3000\uff1c\n",
      "    \uffe3Y^Y^Y^Y^Y^Y^Y^Y^Y^Y\uffe3"
     ]
    },
    {
     "cell_type": "markdown",
     "metadata": {},
     "source": [
      "### \u30c6\u30b9\u30c8\u30bb\u30c3\u30c8\u306b\u5bfe\u3057\u3066\u6027\u5225\u306e\u5224\u5b9a\u3092\u3057\u3066\u5973\u6027\u306a\u3089\u751f\u5b58\u3057\u305f\u3053\u3068\u306b\u3059\u308b ###"
     ]
    },
    {
     "cell_type": "code",
     "collapsed": false,
     "input": [
      "test_file = open('./data/test.csv', 'rb')\n",
      "test_file_object = csv.reader(test_file)\n",
      "header = test_file_object.next()"
     ],
     "language": "python",
     "metadata": {},
     "outputs": [],
     "prompt_number": 28
    },
    {
     "cell_type": "code",
     "collapsed": false,
     "input": [
      "prediction_file = open(\"./tutorial/genderbasedmodel.csv\", \"wb\")\n",
      "prediction_file_object = csv.writer(prediction_file)"
     ],
     "language": "python",
     "metadata": {},
     "outputs": [],
     "prompt_number": 29
    },
    {
     "cell_type": "code",
     "collapsed": false,
     "input": [
      "prediction_file_object.writerow([\"PassengerId\", \"Survived\"])\n",
      "for row in test_file_object:       # For each row in test.csv\n",
      "    if row[3] == 'female':         # is it a female, if yes then                                       \n",
      "        prediction_file_object.writerow([row[0],'1'])    # predict 1\n",
      "    else:                              # or else if male,       \n",
      "        prediction_file_object.writerow([row[0],'0'])    # predict 0\n",
      "test_file.close()\n",
      "prediction_file.close()\n",
      "# \u4e0a\u8a18\u306f\u5b9f\u969b\u306fwith\u6587\u3092\u4f7f\u3063\u3066close\u3092\u81ea\u52d5\u7684\u306b\u5b9f\u884c\u3059\u308b\u3088\u3046\u306b\u3057\u305f\u307b\u3046\u304c\u30ea\u30bd\u30fc\u30b9\u306e\u89e3\u653e\u5fd8\u308c\u304c\u306a\u304f\u3066\u826f\u3044\u3067\u3059\u3002"
     ],
     "language": "python",
     "metadata": {},
     "outputs": [],
     "prompt_number": 30
    },
    {
     "cell_type": "markdown",
     "metadata": {},
     "source": [
      "\u3053\u308c\u306b\u3066\"genderbasedmodel.csv\"\u3068\u547c\u3070\u308c\u308b\u30e2\u30c7\u30eb\u304c\u3067\u304d\u307e\u3057\u305f\u3002\u3053\u308c\u306f\u5b9f\u969b\u306bsubmit\u3059\u308b\u3053\u3068\u304c\u3067\u304d\u308b\u3068\u306e\u3053\u3068\u3002\n",
      "\u306a\u304a\u3053\u3053\u307e\u3067\u3092\u5b9f\u884c\u3059\u308b\u30b9\u30af\u30ea\u30d7\u30c8\u304cgendermodel.py\u3068\u3057\u3066\u7528\u610f\u3055\u308c\u3066\u3044\u307e\u3059\u3002\n",
      "\u4e0b\u8a18\u306f\u5b9f\u969b\u306bdata submittion\u304b\u3089submit\u3057\u3066\u307f\u305f\u7d50\u679c\u3002"
     ]
    },
    {
     "cell_type": "code",
     "collapsed": false,
     "input": [
      "from IPython.display import display, Image\n",
      "display(Image(\"./img/first_submit.png\"))"
     ],
     "language": "python",
     "metadata": {},
     "outputs": [
      {
       "metadata": {},
       "output_type": "display_data",
       "png": "[encoded data removed]",
       "text": [
        "<IPython.core.display.Image at 0x1054da3d0>"
       ]
      }
     ],
     "prompt_number": 31
    },
    {
     "cell_type": "markdown",
     "metadata": {},
     "source": [
      "\u306a\u3093\u306876%\u3082\u5f53\u305f\u3063\u3066\u3044\u307e\u3059\u3002\u305f\u3060\u3057evaluation\u306e\u3068\u3053\u308d\u306b\u3082\u3042\u3063\u305f\u3088\u3046\u306b\u30c6\u30b9\u30c8\u30bb\u30c3\u30c8\u304b\u3089\u30e9\u30f3\u30c0\u30e0\u306b\u9078\u3070\u308c\u305f50%\u306b\u5bfe\u3059\u308b\u8a55\u4fa1\u3067\u3042\u308b\u3053\u3068\u306b\u6ce8\u610f\u3002\u3061\u306a\u307f\u306bsubmit\u6642\u70b9\u30671902\u4eba\u53c2\u52a0\u3057\u3066\u3044\u307e\u3059\u3002"
     ]
    },
    {
     "cell_type": "code",
     "collapsed": false,
     "input": [
      "# So we add a ceiling\n",
      "fare_ceiling = 40\n",
      "# then modify the data in the Fare column to = 39, if it is greater or equal to the ceiling\n",
      "data[ data[0::,9].astype(np.float) >= fare_ceiling, 9 ] = fare_ceiling - 1.0\n",
      "\n",
      "fare_bracket_size = 10\n",
      "number_of_price_brackets = fare_ceiling / fare_bracket_size\n",
      "\n",
      "# I know there were 1st, 2nd and 3rd classes on board\n",
      "number_of_classes = 3\n",
      "\n",
      "# But it's better practice to calculate this from the data directly\n",
      "# Take the length of an array of unique values in column index 2\n",
      "number_of_classes = len(np.unique(data[0::,2])) \n",
      "\n",
      "# Initialize the survival table with all zeros\n",
      "survival_table = np.zeros((2, number_of_classes, number_of_price_brackets))  # 2\u306f\u5973\u6027\u3068\u7537\u6027"
     ],
     "language": "python",
     "metadata": {},
     "outputs": [],
     "prompt_number": 38
    },
    {
     "cell_type": "code",
     "collapsed": false,
     "input": [
      "for i in xrange(number_of_classes):       #loop through each class\n",
      "  for j in xrange(number_of_price_brackets):   #loop through each price bin\n",
      "\n",
      "    women_only_stats = data[\n",
      "                         (data[0::,4] == \"female\")\n",
      "                       &(data[0::,2].astype(np.float)\n",
      "                             == i+1)\n",
      "                       &(data[0::,9].astype(np.float)\n",
      "                            >= j*fare_bracket_size)\n",
      "                       &(data[0::,9].astype(np.float)\n",
      "                            < (j+1)*fare_bracket_size)\n",
      "                          , 1]                       \n",
      "\n",
      "\n",
      "    men_only_stats = data[\n",
      "                         (data[0::,4] != \"female\")\n",
      "                       &(data[0::,2].astype(np.float)\n",
      "                             == i+1)\n",
      "                       &(data[0::,9].astype(np.float)\n",
      "                            >= j*fare_bracket_size)\n",
      "                       &(data[0::,9].astype(np.float)\n",
      "                            < (j+1)*fare_bracket_size)\n",
      "                          , 1]\n",
      "    survival_table[0,i,j] = np.mean(women_only_stats.astype(np.float)) \n",
      "    survival_table[1,i,j] = np.mean(men_only_stats.astype(np.float))"
     ],
     "language": "python",
     "metadata": {},
     "outputs": [],
     "prompt_number": 45
    },
    {
     "cell_type": "code",
     "collapsed": false,
     "input": [
      "survival_table[ survival_table != survival_table ] = 0.  # nan\u30920\u306b\u3059\u308b"
     ],
     "language": "python",
     "metadata": {},
     "outputs": [],
     "prompt_number": 47
    },
    {
     "cell_type": "code",
     "collapsed": false,
     "input": [
      "survival_table"
     ],
     "language": "python",
     "metadata": {},
     "outputs": [
      {
       "metadata": {},
       "output_type": "pyout",
       "prompt_number": 48,
       "text": [
        "array([[[ 0.        ,  0.        ,  0.83333333,  0.97727273],\n",
        "        [ 0.        ,  0.91428571,  0.9       ,  1.        ],\n",
        "        [ 0.59375   ,  0.58139535,  0.33333333,  0.125     ]],\n",
        "\n",
        "       [[ 0.        ,  0.        ,  0.4       ,  0.38372093],\n",
        "        [ 0.        ,  0.15873016,  0.16      ,  0.21428571],\n",
        "        [ 0.11153846,  0.23684211,  0.125     ,  0.24      ]]])"
       ]
      }
     ],
     "prompt_number": 48
    },
    {
     "cell_type": "code",
     "collapsed": false,
     "input": [
      "survival_table[ survival_table < 0.5 ] = 0\n",
      "survival_table[ survival_table >= 0.5 ] = 1 "
     ],
     "language": "python",
     "metadata": {},
     "outputs": [],
     "prompt_number": 49
    },
    {
     "cell_type": "code",
     "collapsed": false,
     "input": [
      "test_file = open('./data/test.csv', 'rb')\n",
      "test_file_object = csv.reader(test_file)\n",
      "header = test_file_object.next()\n",
      "predictions_file = open(\"./tutorial/genderclassmodel.csv\", \"wb\")\n",
      "p = csv.writer(predictions_file)\n",
      "p.writerow([\"PassengerId\", \"Survived\"])"
     ],
     "language": "python",
     "metadata": {},
     "outputs": [],
     "prompt_number": 58
    },
    {
     "cell_type": "code",
     "collapsed": false,
     "input": [
      "for row in test_file_object:                 # We are going to loop\n",
      "    for j in xrange(number_of_price_brackets):  # For each passenger we\n",
      "                                              # loop thro each price bin\n",
      "        try:                                      # Some passengers have no\n",
      "                                              # Fare data so try to make\n",
      "          row[8] = float(row[8])                  # a float\n",
      "        except:                                   # If fails: no data, so \n",
      "          bin_fare = 3 - float(row[1])            # bin the fare according Pclass\n",
      "          break                                   # Break from the loop\n",
      "\n",
      "        if row[8] > fare_ceiling:              # If there is data see ifq\n",
      "                                              # it is greater than fare\n",
      "                                              # ceiling we set earlier\n",
      "          bin_fare = number_of_price_brackets-1   # If so set to highest bin\n",
      "          break\n",
      "        if row[8] >= j * fare_bracket_size and row[8] < (j+1) * fare_bracket_size:             # If passed these tests \n",
      "            bin_fare = j                            # then assign index\n",
      "            break\n",
      "    if row[3] == 'female':                             #If the passenger is female\n",
      "        p.writerow([row[0], \"%d\" % \\\n",
      "                    int(survival_table[0, float(row[1])-1, bin_fare])])\n",
      "    else:                                          #else if male\n",
      "        p.writerow([row[0], \"%d\" % \\\n",
      "                   int(survival_table[1, float(row[1])-1, bin_fare])])\n",
      "     \n",
      "# Close out the files.\n",
      "test_file.close() \n",
      "predictions_file.close()"
     ],
     "language": "python",
     "metadata": {},
     "outputs": [],
     "prompt_number": 59
    },
    {
     "cell_type": "code",
     "collapsed": false,
     "input": [],
     "language": "python",
     "metadata": {},
     "outputs": []
    }
   ],
   "metadata": {}
  }
 ]
}